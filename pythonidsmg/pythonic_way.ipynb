{
 "cells": [
  {
   "cell_type": "code",
   "execution_count": 16,
   "metadata": {},
   "outputs": [
    {
     "name": "stdout",
     "output_type": "stream",
     "text": [
      "80\n",
      "90\n"
     ]
    }
   ],
   "source": [
    "def bad_changer(nilai, best_mark):\n",
    "    nilai = best_mark\n",
    "    \n",
    "def good_changer(nilai, best_mark):\n",
    "    nilai[0] = best_mark\n",
    "\n",
    "nilai_mhs1 = 80\n",
    "bad_changer(nilai_mhs1, 90)\n",
    "print(nilai_mhs1)\n",
    "\n",
    "nilai_mhs2 = [80]\n",
    "good_changer(nilai_mhs2, 90)\n",
    "print(nilai_mhs2[0])"
   ]
  },
  {
   "cell_type": "code",
   "execution_count": 1,
   "metadata": {
    "collapsed": true
   },
   "outputs": [],
   "source": [
    "import timeit"
   ]
  },
  {
   "cell_type": "code",
   "execution_count": 3,
   "metadata": {},
   "outputs": [
    {
     "data": {
      "text/plain": [
       "'FahriFahriFahriFahriFahriFahriFahriFahriFahriFahri'"
      ]
     },
     "execution_count": 3,
     "metadata": {},
     "output_type": "execute_result"
    }
   ],
   "source": [
    "def concateplus(times):\n",
    "    teks = ''\n",
    "    for time in range(times):\n",
    "        teks += \"Fahri\"\n",
    "    return teks\n",
    "\n",
    "concateplus(10)"
   ]
  },
  {
   "cell_type": "code",
   "execution_count": 12,
   "metadata": {},
   "outputs": [
    {
     "data": {
      "text/plain": [
       "24.01370056199994"
      ]
     },
     "execution_count": 12,
     "metadata": {},
     "output_type": "execute_result"
    }
   ],
   "source": [
    "timeit.Timer(\"concateplus(200)\", \"from __main__ import concateplus\").timeit()"
   ]
  },
  {
   "cell_type": "code",
   "execution_count": 8,
   "metadata": {},
   "outputs": [
    {
     "data": {
      "text/plain": [
       "'FahriFahriFahriFahriFahriFahriFahriFahriFahriFahri'"
      ]
     },
     "execution_count": 8,
     "metadata": {},
     "output_type": "execute_result"
    }
   ],
   "source": [
    "def concatejoin(times):\n",
    "    temp = []\n",
    "    for time in range(times):\n",
    "        temp.append(\"Fahri\")\n",
    "    return ''.join(temp)\n",
    "\n",
    "concatejoin(10)"
   ]
  },
  {
   "cell_type": "code",
   "execution_count": 13,
   "metadata": {},
   "outputs": [
    {
     "data": {
      "text/plain": [
       "22.676773379000224"
      ]
     },
     "execution_count": 13,
     "metadata": {},
     "output_type": "execute_result"
    }
   ],
   "source": [
    "timeit.Timer(\"concatejoin(200)\", \"from __main__ import concatejoin\").timeit()"
   ]
  },
  {
   "cell_type": "code",
   "execution_count": 25,
   "metadata": {},
   "outputs": [
    {
     "data": {
      "text/plain": [
       "[1, 2, 3, 4, 5, 6, 7, 8, 9, 10]"
      ]
     },
     "execution_count": 25,
     "metadata": {},
     "output_type": "execute_result"
    }
   ],
   "source": [
    "new_list = []\n",
    "for data in range(1, 11):\n",
    "    new_list.append(data)\n",
    "\n",
    "new_list"
   ]
  },
  {
   "cell_type": "code",
   "execution_count": 27,
   "metadata": {},
   "outputs": [
    {
     "data": {
      "text/plain": [
       "[2, 4, 6, 8, 10]"
      ]
     },
     "execution_count": 27,
     "metadata": {},
     "output_type": "execute_result"
    }
   ],
   "source": [
    "new_list = [data*2 for data in range(1, 11)]\n",
    "[data for data in range(1, 11) if data % 2 == 0]"
   ]
  },
  {
   "cell_type": "code",
   "execution_count": 2,
   "metadata": {},
   "outputs": [
    {
     "name": "stdout",
     "output_type": "stream",
     "text": [
      "1\n",
      "2\n",
      "3\n",
      "4\n",
      "5\n",
      "6\n",
      "7\n",
      "8\n",
      "9\n",
      "10\n"
     ]
    }
   ],
   "source": [
    "class Counter(object):\n",
    "    def __init__(self, start, finish):\n",
    "        self.current = start\n",
    "        self.finish = finish\n",
    "\n",
    "    def __iter__(self):\n",
    "        return self\n",
    "\n",
    "    def __next__(self):\n",
    "        if self.current > self.finish:\n",
    "            raise StopIteration\n",
    "        else:\n",
    "            self.current += 1\n",
    "            return self.current - 1\n",
    "\n",
    "for data in Counter(1, 10):\n",
    "    print(data)"
   ]
  },
  {
   "cell_type": "code",
   "execution_count": 11,
   "metadata": {},
   "outputs": [
    {
     "name": "stdout",
     "output_type": "stream",
     "text": [
      "1 - 2 - 3 - 4 - 5 - 6 - 7 - 8 - 9 - 10 - 11 - 12 - 13 - 14 - 15 - 16 - 17 - 18 - 19 - 20 - "
     ]
    }
   ],
   "source": [
    "import itertools\n",
    "\n",
    "newct = itertools.chain(Counter(1, 10), Counter(11, 20))\n",
    "for data in newct:\n",
    "    print(data, end=\" - \")"
   ]
  },
  {
   "cell_type": "code",
   "execution_count": 14,
   "metadata": {},
   "outputs": [
    {
     "name": "stdout",
     "output_type": "stream",
     "text": [
      "1\n",
      "2\n",
      "3\n"
     ]
    }
   ],
   "source": [
    "def ycounter(start, finish):\n",
    "    current = start\n",
    "    while current <= finish:\n",
    "        yield current\n",
    "        current += 1\n",
    "\n",
    "y = ycounter(1, 10)\n",
    "print(y.__next__())\n",
    "print(y.__next__())\n",
    "print(y.__next__())"
   ]
  },
  {
   "cell_type": "code",
   "execution_count": 20,
   "metadata": {},
   "outputs": [
    {
     "data": {
      "text/plain": [
       "'<b>Sampai berjumpa pulang Fahri Firdausillah</b>'"
      ]
     },
     "execution_count": 20,
     "metadata": {},
     "output_type": "execute_result"
    }
   ],
   "source": [
    "def greeting(name):\n",
    "    return \"Selamat datang di aplikasi ini {0}\".format(name)\n",
    "\n",
    "def sayonara(name):\n",
    "    return \"Sampai berjumpa pulang {0}\".format(name)\n",
    "\n",
    "def make_bold(func):\n",
    "    def func_wrapper(name):\n",
    "        return '<b>{0}</b>'.format(func(name))\n",
    "    return func_wrapper\n",
    "\n",
    "bold_greeting = make_bold(greeting)\n",
    "bold_greeting(\"Fahri Firdausillah\")\n",
    "bold_sayo = make_bold(sayonara)\n",
    "bold_sayo(\"Fahri Firdausillah\")"
   ]
  },
  {
   "cell_type": "code",
   "execution_count": 21,
   "metadata": {},
   "outputs": [
    {
     "data": {
      "text/plain": [
       "'<b>Selamat datang di aplikasi ini Fahri Firdausillah</b>'"
      ]
     },
     "execution_count": 21,
     "metadata": {},
     "output_type": "execute_result"
    }
   ],
   "source": [
    "@make_bold\n",
    "def greeting2(name):\n",
    "    return \"Selamat datang di aplikasi ini {0}\".format(name)\n",
    "\n",
    "greeting2(\"Fahri Firdausillah\")"
   ]
  },
  {
   "cell_type": "code",
   "execution_count": 1,
   "metadata": {},
   "outputs": [
    {
     "data": {
      "text/plain": [
       "'Ahlan wa sahlan ya Fahri selamat belajar Python'"
      ]
     },
     "execution_count": 1,
     "metadata": {},
     "output_type": "execute_result"
    }
   ],
   "source": [
    "def greet(name):\n",
    "    return \"hello \"+name\n",
    "\n",
    "some_var = greet\n",
    "some_var(\"Fahri\")\n",
    "\n",
    "def ahlan(name):\n",
    "    return \"Ahlan wa sahlan ya \"+name\n",
    "\n",
    "def greet_advanced(greet, name):\n",
    "    return greet(name)+\" selamat belajar Python\"\n",
    "\n",
    "greet_advanced(greet, \"Fahri\")\n",
    "greet_advanced(ahlan, \"Fahri\")"
   ]
  },
  {
   "cell_type": "code",
   "execution_count": null,
   "metadata": {
    "collapsed": true
   },
   "outputs": [],
   "source": []
  }
 ],
 "metadata": {
  "kernelspec": {
   "display_name": "Python 3",
   "language": "python",
   "name": "python3"
  },
  "language_info": {
   "codemirror_mode": {
    "name": "ipython",
    "version": 3
   },
   "file_extension": ".py",
   "mimetype": "text/x-python",
   "name": "python",
   "nbconvert_exporter": "python",
   "pygments_lexer": "ipython3",
   "version": "3.6.2"
  }
 },
 "nbformat": 4,
 "nbformat_minor": 2
}
