{
 "cells": [
  {
   "cell_type": "code",
   "execution_count": 2,
   "metadata": {},
   "outputs": [
    {
     "name": "stdout",
     "output_type": "stream",
     "text": [
      "3\n",
      "3\n"
     ]
    }
   ],
   "source": [
    "a_list = [1, 2, 3, 4, 5]\n",
    "a_tuple = (1, 2, 3, 4, 5)\n",
    "\n",
    "print(a_list[2])\n",
    "print(a_tuple[2])\n",
    "\n",
    "a_list = [6, 7, 8, 9, 10]\n",
    "a_tuple = (6, 7, 8, 9, 10)\n",
    "\n",
    "a_list[3] = 12\n",
    "a_tuple[3] = 12 # error"
   ]
  },
  {
   "cell_type": "code",
   "execution_count": 1,
   "metadata": {},
   "outputs": [
    {
     "name": "stdout",
     "output_type": "stream",
     "text": [
      "80\n",
      "90\n"
     ]
    }
   ],
   "source": [
    "def bad_changer(nilai, best_mark):\n",
    "    nilai = best_mark\n",
    "    \n",
    "def good_changer(nilai, best_mark):\n",
    "    nilai[0] = best_mark\n",
    "\n",
    "nilai_mhs1 = 80\n",
    "bad_changer(nilai_mhs1, 90)\n",
    "print(nilai_mhs1)\n",
    "\n",
    "nilai_mhs2 = [80]\n",
    "good_changer(nilai_mhs2, 90)\n",
    "print(nilai_mhs2[0])"
   ]
  },
  {
   "cell_type": "code",
   "execution_count": 2,
   "metadata": {
    "collapsed": true
   },
   "outputs": [],
   "source": [
    "import timeit"
   ]
  },
  {
   "cell_type": "code",
   "execution_count": 3,
   "metadata": {},
   "outputs": [
    {
     "data": {
      "text/plain": [
       "'FahriFahriFahriFahriFahriFahriFahriFahriFahriFahri'"
      ]
     },
     "execution_count": 3,
     "metadata": {},
     "output_type": "execute_result"
    }
   ],
   "source": [
    "def concateplus(times):\n",
    "    teks = ''\n",
    "    for time in range(times):\n",
    "        teks += \"Fahri\"\n",
    "    return teks\n",
    "\n",
    "concateplus(10)"
   ]
  },
  {
   "cell_type": "code",
   "execution_count": 4,
   "metadata": {},
   "outputs": [
    {
     "data": {
      "text/plain": [
       "27.6064280540013"
      ]
     },
     "execution_count": 4,
     "metadata": {},
     "output_type": "execute_result"
    }
   ],
   "source": [
    "timeit.Timer(\"concateplus(200)\", \"from __main__ import concateplus\").timeit()"
   ]
  },
  {
   "cell_type": "code",
   "execution_count": 5,
   "metadata": {},
   "outputs": [
    {
     "data": {
      "text/plain": [
       "'FahriFahriFahriFahriFahriFahriFahriFahriFahriFahri'"
      ]
     },
     "execution_count": 5,
     "metadata": {},
     "output_type": "execute_result"
    }
   ],
   "source": [
    "def concatejoin(times):\n",
    "    temp = []\n",
    "    for time in range(times):\n",
    "        temp.append(\"Fahri\")\n",
    "    return ''.join(temp)\n",
    "\n",
    "concatejoin(10)"
   ]
  },
  {
   "cell_type": "code",
   "execution_count": 6,
   "metadata": {},
   "outputs": [
    {
     "data": {
      "text/plain": [
       "24.505365954002627"
      ]
     },
     "execution_count": 6,
     "metadata": {},
     "output_type": "execute_result"
    }
   ],
   "source": [
    "timeit.Timer(\"concatejoin(200)\", \"from __main__ import concatejoin\").timeit()"
   ]
  },
  {
   "cell_type": "code",
   "execution_count": 7,
   "metadata": {},
   "outputs": [
    {
     "data": {
      "text/plain": [
       "[1, 2, 3, 4, 5, 6, 7, 8, 9, 10]"
      ]
     },
     "execution_count": 7,
     "metadata": {},
     "output_type": "execute_result"
    }
   ],
   "source": [
    "new_list = []\n",
    "for data in range(1, 11):\n",
    "    new_list.append(data)\n",
    "\n",
    "new_list"
   ]
  },
  {
   "cell_type": "code",
   "execution_count": 6,
   "metadata": {},
   "outputs": [
    {
     "name": "stdout",
     "output_type": "stream",
     "text": [
      "[1, 2, 3, 4, 5, 6, 7, 8, 9, 10]\n",
      "[2, 4, 6, 8, 10, 12, 14, 16, 18, 20]\n",
      "[2, 4, 6, 8, 10]\n",
      "[40, 80, 120, 80, 160, 240, 120, 240, 360]\n"
     ]
    }
   ],
   "source": [
    "new_list = [data for data in range(1, 11)]\n",
    "print (new_list)\n",
    "\n",
    "new_list = [data*2 for data in range(1, 11)]\n",
    "print(new_list)\n",
    "\n",
    "new_list = [data for data in range(1, 11) if data % 2 == 0]\n",
    "print(new_list)\n",
    "\n",
    "new_list = [x * y for x in [20, 40, 60] for y in [2, 4, 6]]\n",
    "print(new_list)"
   ]
  },
  {
   "cell_type": "code",
   "execution_count": 8,
   "metadata": {},
   "outputs": [
    {
     "name": "stdout",
     "output_type": "stream",
     "text": [
      "{'i': 0, 'n': 0, 'd': 0, 'o': 0, 'e': 0, 's': 0, 'a': 0}\n",
      "{'i': 0, 'n': 0, 'd': 0, 'o': 0, 'e': 0, 's': 0, 'a': 0}\n",
      "{0: 0, 1: 1, 2: 4, 3: 9, 4: 16, 5: 25, 6: 36, 7: 49, 8: 64, 9: 81}\n"
     ]
    }
   ],
   "source": [
    "reset_data = { k:0 for k in ['i', 'n', 'd', 'o', 'n', 'e', 's', 'i', 'a'] }\n",
    "print(reset_data)\n",
    "\n",
    "# atau lebih pendek\n",
    "reset_data = { k:0 for k in 'indonesia' }\n",
    "print(reset_data)\n",
    "\n",
    "kelipatan = { k:k**2 for k in range(10) }\n",
    "print(kelipatan)"
   ]
  },
  {
   "cell_type": "code",
   "execution_count": 10,
   "metadata": {},
   "outputs": [
    {
     "ename": "DistinctError",
     "evalue": "Nilai sudah digunakan oleh key lain",
     "output_type": "error",
     "traceback": [
      "\u001b[0;31m---------------------------------------------------------------------------\u001b[0m",
      "\u001b[0;31mDistinctError\u001b[0m                             Traceback (most recent call last)",
      "\u001b[0;32m<ipython-input-10-22e6c382315f>\u001b[0m in \u001b[0;36m<module>\u001b[0;34m()\u001b[0m\n\u001b[1;32m     16\u001b[0m \u001b[0mud\u001b[0m \u001b[0;34m=\u001b[0m \u001b[0muniquedict\u001b[0m\u001b[0;34m(\u001b[0m\u001b[0;34m)\u001b[0m\u001b[0;34m\u001b[0m\u001b[0m\n\u001b[1;32m     17\u001b[0m \u001b[0mud\u001b[0m\u001b[0;34m[\u001b[0m\u001b[0;34m'key'\u001b[0m\u001b[0;34m]\u001b[0m \u001b[0;34m=\u001b[0m \u001b[0;34m'value'\u001b[0m\u001b[0;34m\u001b[0m\u001b[0m\n\u001b[0;32m---> 18\u001b[0;31m \u001b[0mud\u001b[0m\u001b[0;34m[\u001b[0m\u001b[0;34m'other_key'\u001b[0m\u001b[0;34m]\u001b[0m \u001b[0;34m=\u001b[0m \u001b[0;34m'value'\u001b[0m\u001b[0;34m\u001b[0m\u001b[0m\n\u001b[0m",
      "\u001b[0;32m<ipython-input-10-22e6c382315f>\u001b[0m in \u001b[0;36m__setitem__\u001b[0;34m(self, key, value)\u001b[0m\n\u001b[1;32m     10\u001b[0m                 \u001b[0mkey\u001b[0m \u001b[0;32mnot\u001b[0m \u001b[0;32min\u001b[0m \u001b[0mself\u001b[0m\u001b[0;34m\u001b[0m\u001b[0m\n\u001b[1;32m     11\u001b[0m             ):\n\u001b[0;32m---> 12\u001b[0;31m                 \u001b[0;32mraise\u001b[0m \u001b[0mDistinctError\u001b[0m\u001b[0;34m(\u001b[0m\u001b[0;34m\"Nilai sudah digunakan oleh key lain\"\u001b[0m\u001b[0;34m)\u001b[0m\u001b[0;34m\u001b[0m\u001b[0m\n\u001b[0m\u001b[1;32m     13\u001b[0m \u001b[0;34m\u001b[0m\u001b[0m\n\u001b[1;32m     14\u001b[0m         \u001b[0msuper\u001b[0m\u001b[0;34m(\u001b[0m\u001b[0;34m)\u001b[0m\u001b[0;34m.\u001b[0m\u001b[0m__setitem__\u001b[0m\u001b[0;34m(\u001b[0m\u001b[0mkey\u001b[0m\u001b[0;34m,\u001b[0m \u001b[0mvalue\u001b[0m\u001b[0;34m)\u001b[0m\u001b[0;34m\u001b[0m\u001b[0m\n",
      "\u001b[0;31mDistinctError\u001b[0m: Nilai sudah digunakan oleh key lain"
     ]
    }
   ],
   "source": [
    "class DistinctError(ValueError):\n",
    "    pass\n",
    "\n",
    "class uniquedict(dict):\n",
    "    \n",
    "    def __setitem__(self, key, value):\n",
    "        if value in self.values():\n",
    "            if (\n",
    "                (key in self and self[key] != value) or\n",
    "                key not in self\n",
    "            ):\n",
    "                raise DistinctError(\"Nilai sudah digunakan oleh key lain\")\n",
    "\n",
    "        super().__setitem__(key, value)\n",
    "\n",
    "ud = uniquedict()\n",
    "ud['key'] = 'value'\n",
    "ud['other_key'] = 'value'"
   ]
  },
  {
   "cell_type": "code",
   "execution_count": 11,
   "metadata": {},
   "outputs": [
    {
     "name": "stdout",
     "output_type": "stream",
     "text": [
      "project/\n",
      "  README.md\n",
      "project/\n",
      "  README.md\n",
      "  src/\n",
      "    script.py\n"
     ]
    }
   ],
   "source": [
    "class SubList(list):\n",
    "    def __init__(self, name):\n",
    "        self.name = name\n",
    "\n",
    "    def sub(self, nesting=0):\n",
    "        offset = \"  \" * nesting\n",
    "        print('%s%s/' % (offset, self.name))\n",
    "\n",
    "        for element in self:\n",
    "            if hasattr(element, 'sub'):\n",
    "                element.sub(nesting + 1)\n",
    "            else:\n",
    "                print(\"%s  %s\" % (offset, element))\n",
    "\n",
    "                \n",
    "tree = SubList('project')\n",
    "tree.append('README.md')\n",
    "tree.sub()\n",
    "\n",
    "src = SubList('src')\n",
    "src.append('script.py')\n",
    "tree.append(src)\n",
    "tree.sub()"
   ]
  },
  {
   "cell_type": "code",
   "execution_count": 14,
   "metadata": {},
   "outputs": [
    {
     "data": {
      "text/plain": [
       "49"
      ]
     },
     "execution_count": 14,
     "metadata": {},
     "output_type": "execute_result"
    }
   ],
   "source": [
    "def multiadds(*args):\n",
    "    result = 0\n",
    "    for number in args:\n",
    "        result += number\n",
    "    return result\n",
    "\n",
    "multiadds(4, 5)\n",
    "multiadds(4, 5, 6)\n",
    "multiadds(4, 5, 6, 7, 8, 9, 10)"
   ]
  },
  {
   "cell_type": "code",
   "execution_count": 19,
   "metadata": {},
   "outputs": [
    {
     "name": "stdout",
     "output_type": "stream",
     "text": [
      "Nilai dari nama adalah Fahri Firdausillah\n",
      "Nilai dari bb adalah 55\n",
      "Nilai dari tb adalah 160\n",
      "Nilai dari rambut adalah hitam\n"
     ]
    }
   ],
   "source": [
    "def men_attributes(**kwargs):\n",
    "    for key, value in kwargs.items():\n",
    "        print(\"Nilai dari {} adalah {}\".format(key, value))\n",
    "\n",
    "men_attributes(nama=\"Fahri Firdausillah\")\n",
    "men_attributes(bb=55, tb=160, rambut=\"hitam\")"
   ]
  },
  {
   "cell_type": "code",
   "execution_count": 21,
   "metadata": {},
   "outputs": [
    {
     "name": "stdout",
     "output_type": "stream",
     "text": [
      "Nama saya: Fahri Firdausillah\n",
      "Keahlian: Python Java PHP \n",
      "Status marital: sudah menikah\n",
      "jml_anak: 2\n",
      "profesi: dosen\n"
     ]
    }
   ],
   "source": [
    "def some_function(name, *langs, married = False, **attrs):\n",
    "    print(\"Nama saya: {}\".format(name))\n",
    "\n",
    "    print(\"Keahlian\", end=\": \")\n",
    "    for lang in langs:\n",
    "        print(lang, end=\" \")\n",
    "    print(\"\")\n",
    "\n",
    "    print(\"Status marital\", end=\": \")\n",
    "    if married :\n",
    "        print(\"sudah menikah\")\n",
    "    else:\n",
    "        print(\"jomblo\")\n",
    "\n",
    "    for key, value in attrs.items():\n",
    "        print(\"{}: {}\".format(key, value))\n",
    "        \n",
    "some_function(\"Fahri Firdausillah\", \"Python\", \"Java\", \"PHP\", married=True, jml_anak=2, profesi=\"dosen\")"
   ]
  },
  {
   "cell_type": "code",
   "execution_count": 22,
   "metadata": {},
   "outputs": [
    {
     "name": "stdout",
     "output_type": "stream",
     "text": [
      "1 2 3 4 5 6 7 8 9 10 "
     ]
    }
   ],
   "source": [
    "class Counter(object):\n",
    "    def __init__(self, start, finish):\n",
    "        self.current = start\n",
    "        self.finish = finish\n",
    "\n",
    "    def __iter__(self):\n",
    "        return self\n",
    "\n",
    "    def __next__(self):\n",
    "        if self.current > self.finish:\n",
    "            raise StopIteration\n",
    "        else:\n",
    "            self.current += 1\n",
    "            return self.current - 1\n",
    "\n",
    "for data in Counter(1, 10):\n",
    "    print(data, end=\" \")"
   ]
  },
  {
   "cell_type": "code",
   "execution_count": 23,
   "metadata": {},
   "outputs": [
    {
     "name": "stdout",
     "output_type": "stream",
     "text": [
      "1 2 3 4 5 6 7 8 9 10 11 12 13 14 15 16 17 18 19 20 "
     ]
    }
   ],
   "source": [
    "import itertools\n",
    "\n",
    "newct = itertools.chain(Counter(1, 10), Counter(11, 20))\n",
    "for data in newct:\n",
    "    print(data, end=\" \")"
   ]
  },
  {
   "cell_type": "code",
   "execution_count": 11,
   "metadata": {},
   "outputs": [
    {
     "name": "stdout",
     "output_type": "stream",
     "text": [
      "1\n",
      "2\n",
      "3\n"
     ]
    }
   ],
   "source": [
    "def ycounter(start, finish):\n",
    "    current = start\n",
    "    while current <= finish:\n",
    "        yield current\n",
    "        current += 1\n",
    "\n",
    "y = ycounter(1, 10)\n",
    "print(y.__next__())\n",
    "print(y.__next__())\n",
    "print(y.__next__())"
   ]
  },
  {
   "cell_type": "code",
   "execution_count": 14,
   "metadata": {},
   "outputs": [
    {
     "data": {
      "text/plain": [
       "'Ahlan wa sahlan ya Fahri selamat belajar Python'"
      ]
     },
     "execution_count": 14,
     "metadata": {},
     "output_type": "execute_result"
    }
   ],
   "source": [
    "def greet(name):\n",
    "    return \"hello \"+name\n",
    "\n",
    "some_var = greet\n",
    "some_var(\"Fahri\")\n",
    "\n",
    "def ahlan(name):\n",
    "    return \"Ahlan wa sahlan ya \"+name\n",
    "\n",
    "def greet_advanced(greet, name):\n",
    "    return greet(name)+\" selamat belajar Python\"\n",
    "\n",
    "greet_advanced(greet, \"Fahri\")\n",
    "greet_advanced(ahlan, \"Fahri\")"
   ]
  },
  {
   "cell_type": "code",
   "execution_count": 27,
   "metadata": {},
   "outputs": [
    {
     "data": {
      "text/plain": [
       "'Anak yang nggak terlahir'"
      ]
     },
     "execution_count": 27,
     "metadata": {},
     "output_type": "execute_result"
    }
   ],
   "source": [
    "def parent(number):\n",
    "    def first_child():\n",
    "        return \"Ini anak pertama\"\n",
    "\n",
    "    def second_child():\n",
    "        return \"Ini anak kedua\"\n",
    "\n",
    "    def unborn_child():\n",
    "        return \"Anak yang nggak terlahir\"\n",
    "\n",
    "    if number == 1:\n",
    "        return first_child\n",
    "    elif number == 2:\n",
    "        return second_child\n",
    "    else:\n",
    "        return unborn_child\n",
    "    \n",
    "var_function = parent(3)\n",
    "var_function()"
   ]
  },
  {
   "cell_type": "code",
   "execution_count": 12,
   "metadata": {},
   "outputs": [
    {
     "data": {
      "text/plain": [
       "'<b>Sampai berjumpa pulang Fahri Firdausillah</b>'"
      ]
     },
     "execution_count": 12,
     "metadata": {},
     "output_type": "execute_result"
    }
   ],
   "source": [
    "def greeting(name):\n",
    "    return \"Selamat datang di aplikasi ini {0}\".format(name)\n",
    "\n",
    "def sayonara(name):\n",
    "    return \"Sampai berjumpa pulang {0}\".format(name)\n",
    "\n",
    "def make_bold(func):\n",
    "    def func_wrapper(name):\n",
    "        return '<b>{0}</b>'.format(func(name))\n",
    "    return func_wrapper\n",
    "\n",
    "bold_greeting = make_bold(greeting)\n",
    "bold_greeting(\"Fahri Firdausillah\")\n",
    "bold_sayo = make_bold(sayonara)\n",
    "bold_sayo(\"Fahri Firdausillah\")"
   ]
  },
  {
   "cell_type": "code",
   "execution_count": 13,
   "metadata": {},
   "outputs": [
    {
     "data": {
      "text/plain": [
       "'<b>Selamat datang di aplikasi ini Fahri Firdausillah</b>'"
      ]
     },
     "execution_count": 13,
     "metadata": {},
     "output_type": "execute_result"
    }
   ],
   "source": [
    "@make_bold\n",
    "def greeting2(name):\n",
    "    return \"Selamat datang di aplikasi ini {0}\".format(name)\n",
    "\n",
    "greeting2(\"Fahri Firdausillah\")"
   ]
  },
  {
   "cell_type": "code",
   "execution_count": 18,
   "metadata": {},
   "outputs": [
    {
     "name": "stdout",
     "output_type": "stream",
     "text": [
      "this function writen by: Fahri Firdausillah\n",
      "keeping secret\n"
     ]
    }
   ],
   "source": [
    "def writen_by(writen_by):\n",
    "    def decorator(fn):\n",
    "        def decorated(*args, **kwargs):\n",
    "            print('this function writen by: {}'.format(writen_by))\n",
    "            return fn(*args, **kwargs)\n",
    "        return decorated\n",
    "    return decorator\n",
    "\n",
    "@writen_by('Fahri Firdausillah')\n",
    "def good_idea(idea):\n",
    "    return idea\n",
    "\n",
    "print(good_idea('keeping secret'))"
   ]
  },
  {
   "cell_type": "code",
   "execution_count": 15,
   "metadata": {},
   "outputs": [
    {
     "name": "stdout",
     "output_type": "stream",
     "text": [
      "Method A\n",
      "Method B\n"
     ]
    }
   ],
   "source": [
    "class BaseClassA():\n",
    "    def method_a(self):\n",
    "        print(\"Method A\")\n",
    "\n",
    "class BaseClassB():\n",
    "    def method_b(self):\n",
    "        print(\"Method B\")\n",
    "\n",
    "class ChildClass(BaseClassA, BaseClassB):\n",
    "    pass\n",
    "\n",
    "child = ChildClass()\n",
    "child.method_a()\n",
    "child.method_b()"
   ]
  },
  {
   "cell_type": "code",
   "execution_count": 16,
   "metadata": {},
   "outputs": [
    {
     "name": "stdout",
     "output_type": "stream",
     "text": [
      "Method A\n",
      "Method A\n",
      "Method B\n"
     ]
    }
   ],
   "source": [
    "class BaseClassA():\n",
    "    def method(self):\n",
    "        print(\"Method A\")\n",
    "\n",
    "class BaseClassB():\n",
    "    def method(self):\n",
    "        super(BaseClassB, self).method()\n",
    "        print(\"Method B\")\n",
    "\n",
    "class ChildClassA(BaseClassA, BaseClassB):\n",
    "    pass\n",
    "\n",
    "class ChildClassB(BaseClassB, BaseClassA):\n",
    "    pass\n",
    "\n",
    "child_a = ChildClassA()\n",
    "child_a.method()\n",
    "child_b = ChildClassB()\n",
    "child_b.method()"
   ]
  },
  {
   "cell_type": "code",
   "execution_count": null,
   "metadata": {
    "collapsed": true
   },
   "outputs": [],
   "source": []
  }
 ],
 "metadata": {
  "kernelspec": {
   "display_name": "Python 3",
   "language": "python",
   "name": "python3"
  },
  "language_info": {
   "codemirror_mode": {
    "name": "ipython",
    "version": 3
   },
   "file_extension": ".py",
   "mimetype": "text/x-python",
   "name": "python",
   "nbconvert_exporter": "python",
   "pygments_lexer": "ipython3",
   "version": "3.6.2"
  }
 },
 "nbformat": 4,
 "nbformat_minor": 2
}
